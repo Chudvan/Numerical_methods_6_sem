{
 "cells": [
  {
   "cell_type": "code",
   "execution_count": 1,
   "metadata": {},
   "outputs": [],
   "source": [
    "from sympy import *"
   ]
  },
  {
   "cell_type": "code",
   "execution_count": 2,
   "metadata": {},
   "outputs": [],
   "source": [
    "init_printing()"
   ]
  },
  {
   "cell_type": "code",
   "execution_count": 3,
   "metadata": {},
   "outputs": [
    {
     "data": {
      "image/png": "[encoded data removed]",
      "text/latex": [
       "$$x$$"
      ],
      "text/plain": [
       "x"
      ]
     },
     "execution_count": 3,
     "metadata": {},
     "output_type": "execute_result"
    }
   ],
   "source": [
    "var('x')"
   ]
  },
  {
   "cell_type": "code",
   "execution_count": 4,
   "metadata": {},
   "outputs": [
    {
     "data": {
      "image/png": "[encoded data removed]",
      "text/latex": [
       "$$x$$"
      ],
      "text/plain": [
       "x"
      ]
     },
     "execution_count": 4,
     "metadata": {},
     "output_type": "execute_result"
    }
   ],
   "source": [
    "x"
   ]
  },
  {
   "cell_type": "code",
   "execution_count": 5,
   "metadata": {},
   "outputs": [],
   "source": [
    "f = 1 / ((x + 1) * (x ** 2 + 1) ** (1 / 2))"
   ]
  },
  {
   "cell_type": "code",
   "execution_count": 16,
   "metadata": {},
   "outputs": [
    {
     "data": {
      "image/png": "[encoded data removed]",
      "text/latex": [
       "$$\\frac{1}{\\left(x + 1\\right) \\left(x^{2} + 1\\right)^{0.5}}$$"
      ],
      "text/plain": [
       "        -0.5\n",
       "⎛ 2    ⎞    \n",
       "⎝x  + 1⎠    \n",
       "────────────\n",
       "   x + 1    "
      ]
     },
     "execution_count": 16,
     "metadata": {},
     "output_type": "execute_result"
    }
   ],
   "source": [
    "f # №2247 Демидович "
   ]
  },
  {
   "cell_type": "code",
   "execution_count": 7,
   "metadata": {},
   "outputs": [
    {
     "data": {
      "image/png": "[encoded data removed]",
      "text/latex": [
       "$$h$$"
      ],
      "text/plain": [
       "h"
      ]
     },
     "execution_count": 7,
     "metadata": {},
     "output_type": "execute_result"
    }
   ],
   "source": [
    "var('h')"
   ]
  },
  {
   "cell_type": "code",
   "execution_count": 8,
   "metadata": {},
   "outputs": [],
   "source": [
    "I383 = 3 * h /8 * (f + 3 * (f.subs(x, x + h) + f.subs(x, x + 2 * h))+ f.subs(x, x + 3 * h))"
   ]
  },
  {
   "cell_type": "code",
   "execution_count": 9,
   "metadata": {
    "scrolled": false
   },
   "outputs": [
    {
     "data": {
      "image/png": "[encoded data removed]",
      "text/latex": [
       "$$\\frac{3 h \\left(\\frac{3}{\\left(\\left(h + x\\right)^{2} + 1\\right)^{0.5} \\left(h + x + 1\\right)} + \\frac{3}{\\left(\\left(2 h + x\\right)^{2} + 1\\right)^{0.5} \\left(2 h + x + 1\\right)} + \\frac{1}{\\left(\\left(3 h + x\\right)^{2} + 1\\right)^{0.5} \\left(3 h + x + 1\\right)} + \\frac{1}{\\left(x + 1\\right) \\left(x^{2} + 1\\right)^{0.5}}\\right)}{8}$$"
      ],
      "text/plain": [
       "    ⎛                -0.5                     -0.5                   -0.5     \n",
       "    ⎜  ⎛       2    ⎞         ⎛         2    ⎞       ⎛         2    ⎞       ⎛ \n",
       "    ⎜3⋅⎝(h + x)  + 1⎠       3⋅⎝(2⋅h + x)  + 1⎠       ⎝(3⋅h + x)  + 1⎠       ⎝x\n",
       "3⋅h⋅⎜──────────────────── + ────────────────────── + ──────────────────── + ──\n",
       "    ⎝     h + x + 1              2⋅h + x + 1             3⋅h + x + 1          \n",
       "──────────────────────────────────────────────────────────────────────────────\n",
       "                                            8                                 \n",
       "\n",
       "      -0.5⎞\n",
       "2    ⎞    ⎟\n",
       "  + 1⎠    ⎟\n",
       "──────────⎟\n",
       " x + 1    ⎠\n",
       "───────────\n",
       "           "
      ]
     },
     "execution_count": 9,
     "metadata": {},
     "output_type": "execute_result"
    }
   ],
   "source": [
    "I383"
   ]
  },
  {
   "cell_type": "code",
   "execution_count": 10,
   "metadata": {},
   "outputs": [
    {
     "data": {
      "image/png": "[encoded data removed]",
      "text/latex": [
       "$$0.522594303702327$$"
      ],
      "text/plain": [
       "0.522594303702327"
      ]
     },
     "execution_count": 10,
     "metadata": {},
     "output_type": "execute_result"
    }
   ],
   "source": [
    "I383.subs({h: 0.75 / 3, x: 0})"
   ]
  },
  {
   "cell_type": "code",
   "execution_count": 11,
   "metadata": {},
   "outputs": [],
   "source": [
    "I386 = 3 * h /8 * (f + 3 * (f.subs(x, x + h) + f.subs(x, x + 2 * h)+ f.subs(x, x + 4 * h)+ f.subs(x, x + 5 * h)) + 2 * f.subs(x, x + 3 * h) + f.subs(x, x + 6 * h))"
   ]
  },
  {
   "cell_type": "code",
   "execution_count": 12,
   "metadata": {},
   "outputs": [
    {
     "data": {
      "image/png": "[encoded data removed]",
      "text/latex": [
       "$$\\frac{3 h \\left(\\frac{3}{\\left(\\left(h + x\\right)^{2} + 1\\right)^{0.5} \\left(h + x + 1\\right)} + \\frac{3}{\\left(\\left(2 h + x\\right)^{2} + 1\\right)^{0.5} \\left(2 h + x + 1\\right)} + \\frac{2}{\\left(\\left(3 h + x\\right)^{2} + 1\\right)^{0.5} \\left(3 h + x + 1\\right)} + \\frac{3}{\\left(\\left(4 h + x\\right)^{2} + 1\\right)^{0.5} \\left(4 h + x + 1\\right)} + \\frac{3}{\\left(\\left(5 h + x\\right)^{2} + 1\\right)^{0.5} \\left(5 h + x + 1\\right)} + \\frac{1}{\\left(\\left(6 h + x\\right)^{2} + 1\\right)^{0.5} \\left(6 h + x + 1\\right)} + \\frac{1}{\\left(x + 1\\right) \\left(x^{2} + 1\\right)^{0.5}}\\right)}{8}$$"
      ],
      "text/plain": [
       "    ⎛                -0.5                     -0.5                     -0.5   \n",
       "    ⎜  ⎛       2    ⎞         ⎛         2    ⎞         ⎛         2    ⎞       \n",
       "    ⎜3⋅⎝(h + x)  + 1⎠       3⋅⎝(2⋅h + x)  + 1⎠       2⋅⎝(3⋅h + x)  + 1⎠       \n",
       "3⋅h⋅⎜──────────────────── + ────────────────────── + ────────────────────── + \n",
       "    ⎝     h + x + 1              2⋅h + x + 1              3⋅h + x + 1         \n",
       "──────────────────────────────────────────────────────────────────────────────\n",
       "                                                                              \n",
       "\n",
       "                  -0.5                     -0.5                   -0.5        \n",
       "  ⎛         2    ⎞         ⎛         2    ⎞       ⎛         2    ⎞       ⎛ 2  \n",
       "3⋅⎝(4⋅h + x)  + 1⎠       3⋅⎝(5⋅h + x)  + 1⎠       ⎝(6⋅h + x)  + 1⎠       ⎝x  +\n",
       "────────────────────── + ────────────────────── + ──────────────────── + ─────\n",
       "     4⋅h + x + 1              5⋅h + x + 1             6⋅h + x + 1           x \n",
       "──────────────────────────────────────────────────────────────────────────────\n",
       "   8                                                                          \n",
       "\n",
       "   -0.5⎞\n",
       "  ⎞    ⎟\n",
       " 1⎠    ⎟\n",
       "───────⎟\n",
       "+ 1    ⎠\n",
       "────────\n",
       "        "
      ]
     },
     "execution_count": 12,
     "metadata": {},
     "output_type": "execute_result"
    }
   ],
   "source": [
    "I386"
   ]
  },
  {
   "cell_type": "code",
   "execution_count": 13,
   "metadata": {},
   "outputs": [
    {
     "data": {
      "image/png": "[encoded data removed]",
      "text/latex": [
       "$$0.522556980799541$$"
      ],
      "text/plain": [
       "0.522556980799541"
      ]
     },
     "execution_count": 13,
     "metadata": {},
     "output_type": "execute_result"
    }
   ],
   "source": [
    "I386.subs({h: 0.75 / 6, x: 0})"
   ]
  },
  {
   "cell_type": "code",
   "execution_count": 14,
   "metadata": {},
   "outputs": [],
   "source": [
    "I389 = 3 * h /8 * (f + 3 * (f.subs(x, x + h) + f.subs(x, x + 2 * h)+ f.subs(x, x + 4 * h)+ f.subs(x, x + 5 * h) + f.subs(x, x + 7 * h) + f.subs(x, x + 8 * h)) + 2 * (f.subs(x, x + 3 * h) + f.subs(x, x + 6 * h)) + f.subs(x, x + 9 * h))"
   ]
  },
  {
   "cell_type": "code",
   "execution_count": 15,
   "metadata": {},
   "outputs": [
    {
     "data": {
      "image/png": "[encoded data removed]",
      "text/latex": [
       "$$0.522551872783996$$"
      ],
      "text/plain": [
       "0.522551872783996"
      ]
     },
     "execution_count": 15,
     "metadata": {},
     "output_type": "execute_result"
    }
   ],
   "source": [
    "I389.subs({h: 0.75 / 9, x: 0})"
   ]
  },
  {
   "cell_type": "code",
   "execution_count": null,
   "metadata": {},
   "outputs": [],
   "source": []
  }
 ],
 "metadata": {
  "kernelspec": {
   "display_name": "Python 3",
   "language": "python",
   "name": "python3"
  },
  "language_info": {
   "codemirror_mode": {
    "name": "ipython",
    "version": 3
   },
   "file_extension": ".py",
   "mimetype": "text/x-python",
   "name": "python",
   "nbconvert_exporter": "python",
   "pygments_lexer": "ipython3",
   "version": "3.7.3"
  }
 },
 "nbformat": 4,
 "nbformat_minor": 2
}
